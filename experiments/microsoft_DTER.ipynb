{
 "cells": [
  {
   "cell_type": "code",
   "execution_count": null,
   "id": "83f3fe81",
   "metadata": {},
   "outputs": [],
   "source": [
    "from transformers import AutoImageProcessor, TableTransformerForObjectDetection\n",
    "import torch\n",
    "from PIL import Image\n",
    "\n",
    "file_path = \"pages/page11.jpg\"\n",
    "image = Image.open(file_path).convert(\"RGB\")"
   ]
  },
  {
   "cell_type": "markdown",
   "id": "a20259f6",
   "metadata": {},
   "source": [
    "### **Table Transformer (fine-tuned for Table Detection)**"
   ]
  },
  {
   "cell_type": "code",
   "execution_count": null,
   "id": "f3b62e7c",
   "metadata": {},
   "outputs": [],
   "source": [
    "\n",
    "image_processor = AutoImageProcessor.from_pretrained(\"microsoft/table-transformer-detection\")\n",
    "model = TableTransformerForObjectDetection.from_pretrained(\"microsoft/table-transformer-detection\")\n",
    "\n",
    "inputs = image_processor(images=image, return_tensors=\"pt\")\n",
    "outputs = model(**inputs)\n",
    "\n",
    "# convert outputs (bounding boxes and class logits) to Pascal VOC format (xmin, ymin, xmax, ymax)\n",
    "target_sizes = torch.tensor([image.size[::-1]])\n",
    "results = image_processor.post_process_object_detection(outputs, threshold=0.6, target_sizes=target_sizes)[0]\n",
    "\n",
    "for score, label, box in zip(results[\"scores\"], results[\"labels\"], results[\"boxes\"]):\n",
    "    box = [round(i, 2) for i in box.tolist()]\n",
    "    print(\n",
    "        f\"Detected {model.config.id2label[label.item()]} with confidence \"\n",
    "        f\"{round(score.item(), 3)} at location {box}\"\n",
    "    )"
   ]
  },
  {
   "cell_type": "markdown",
   "id": "ba30cb93",
   "metadata": {},
   "source": [
    "### **TrOCR**"
   ]
  },
  {
   "cell_type": "code",
   "execution_count": null,
   "id": "2352ed0e",
   "metadata": {},
   "outputs": [],
   "source": [
    "from transformers import TrOCRProcessor, VisionEncoderDecoderModel\n",
    "from PIL import Image\n",
    "\n",
    "processor = TrOCRProcessor.from_pretrained('microsoft/trocr-large-printed')\n",
    "model = VisionEncoderDecoderModel.from_pretrained('microsoft/trocr-large-printed')\n",
    "\n",
    "pixel_values = processor(image, return_tensors=\"pt\").pixel_values\n",
    "generated_ids = model.generate(pixel_values)\n",
    "\n",
    "generated_text = processor.batch_decode(generated_ids, skip_special_tokens=True, max_new_tokens=1024)[0]"
   ]
  }
 ],
 "metadata": {
  "kernelspec": {
   "display_name": "RL",
   "language": "python",
   "name": "python3"
  },
  "language_info": {
   "codemirror_mode": {
    "name": "ipython",
    "version": 3
   },
   "file_extension": ".py",
   "mimetype": "text/x-python",
   "name": "python",
   "nbconvert_exporter": "python",
   "pygments_lexer": "ipython3",
   "version": "3.9.18"
  }
 },
 "nbformat": 4,
 "nbformat_minor": 5
}
