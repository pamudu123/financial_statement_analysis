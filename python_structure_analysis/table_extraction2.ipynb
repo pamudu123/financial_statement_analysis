{
 "cells": [
  {
   "cell_type": "code",
   "execution_count": 3,
   "id": "cdfcd825",
   "metadata": {},
   "outputs": [],
   "source": [
    "import os\n",
    "import pymupdf4llm"
   ]
  },
  {
   "cell_type": "code",
   "execution_count": 4,
   "id": "81ff1ca5",
   "metadata": {},
   "outputs": [],
   "source": [
    "# --- Configuration ---\n",
    "# PDF_PATH = \"C:/Users/PK/Desktop/projects/financial_statement_analysis/docs/summary_pages.pdf\"\n",
    "PDF_PATH = \"C:/Users/PK/Desktop/projects/financial_statement_analysis/docs/B & E FOODS PTY LTD.pdf\"\n",
    "\n",
    "PYMUPDF_OUTPUT_MD = f\"extracted_tables_pymupdf_{os.path.splitext(os.path.basename(PDF_PATH))[0]}.md\""
   ]
  },
  {
   "cell_type": "markdown",
   "id": "688886af",
   "metadata": {},
   "source": [
    "### **PyMuPDF4LLM**"
   ]
  },
  {
   "cell_type": "code",
   "execution_count": null,
   "id": "2ea48319",
   "metadata": {},
   "outputs": [
    {
     "name": "stdout",
     "output_type": "stream",
     "text": [
      "Processing C:/Users/PK/Desktop/projects/financial_statement_analysis/docs/B & E FOODS PTY LTD.pdf...\n",
      "[                                        ] (0/3[=                                       ] ( 1/3[==                                      ] ( 2/30[====                                    ] ( 3/30=[=====                                   ] ( 4/3[======                                  ] ( 5/30[========                                ] ( 6/30=[=========                               ] ( 7/3[==========                              ] ( 8/30[============                            ] ( 9/30=[=============                           ] (10/3[==============                          ] (11/30[================                        ] (12/30=[=================                       ] (13/3[==================                      ] (14/30[====================                    ] (15/30=[=====================                   ] (16/3[======================                  ] (17/30[========================                ] (18/30=[=========================               ] (19/3[==========================              ] (20/30[============================            ] (21/30=[=============================           ] (22/3[==============================          ] (23/30[================================        ] (24/30=[=================================       ] (25/3[==================================      ] (26/30[====================================    ] (27/30=[=====================================   ] (28/3[======================================  ] (29/30[========================================] (30/30]\n"
     ]
    },
    {
     "data": {
      "text/plain": [
       "11471"
      ]
     },
     "execution_count": 5,
     "metadata": {},
     "output_type": "execute_result"
    }
   ],
   "source": [
    "md_text = pymupdf4llm.to_markdown(PDF_PATH, show_progress=True)\n",
    "import pathlib\n",
    "pathlib.Path(PYMUPDF_OUTPUT_MD).write_bytes(md_text.encode())"
   ]
  },
  {
   "cell_type": "markdown",
   "id": "ee1e0ea4",
   "metadata": {},
   "source": [
    "## **unstructured**"
   ]
  },
  {
   "cell_type": "code",
   "execution_count": null,
   "id": "085edfde",
   "metadata": {},
   "outputs": [],
   "source": [
    "from unstructured.partition.pdf import partition_pdf\n",
    "elements = partition_pdf(filename=PDF_FILE,\n",
    "                        infer_table_structure=True,\n",
    "                        fast=True)\n",
    "print(\"\\n\\n\".join([str(el) for el in elements]))"
   ]
  }
 ],
 "metadata": {
  "kernelspec": {
   "display_name": "base",
   "language": "python",
   "name": "python3"
  },
  "language_info": {
   "codemirror_mode": {
    "name": "ipython",
    "version": 3
   },
   "file_extension": ".py",
   "mimetype": "text/x-python",
   "name": "python",
   "nbconvert_exporter": "python",
   "pygments_lexer": "ipython3",
   "version": "3.11.5"
  }
 },
 "nbformat": 4,
 "nbformat_minor": 5
}
